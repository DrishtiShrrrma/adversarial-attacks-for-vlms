{
 "cells": [
  {
   "cell_type": "code",
   "execution_count": null,
   "metadata": {},
   "outputs": [],
   "source": [
    "import os\n",
    "import textwrap\n",
    "os.environ[\"CUDA_VISIBLE_DEVICES\"] = \"0\""
   ]
  },
  {
   "cell_type": "code",
   "execution_count": null,
   "metadata": {},
   "outputs": [],
   "source": [
    "from datasets import load_dataset\n",
    "ds = load_dataset(\n",
    "    \"hwaseem04/Aya-testing\",\n",
    "    data_files={\"xGQA_vqa\": \"data/xGQA_vqa-00000-of-00001.parquet\"}\n",
    ")\n"
   ]
  },
  {
   "cell_type": "code",
   "execution_count": null,
   "metadata": {},
   "outputs": [],
   "source": [
    "ds['xGQA_vqa'][0]"
   ]
  },
  {
   "cell_type": "code",
   "execution_count": null,
   "metadata": {},
   "outputs": [],
   "source": [
    "from huggingface_hub import notebook_login\n",
    "notebook_login()"
   ]
  },
  {
   "cell_type": "code",
   "execution_count": null,
   "metadata": {},
   "outputs": [],
   "source": [
    "from datasets import load_dataset\n",
    "from tqdm import tqdm\n",
    "from PIL import Image\n",
    "import torch\n",
    "from transformers import AutoProcessor, AutoModelForImageTextToText\n",
    "\n",
    "# Load Aya Vision model\n",
    "model_id = \"CohereLabs/aya-vision-8b\"\n",
    "processor = AutoProcessor.from_pretrained(model_id)\n",
    "model = AutoModelForImageTextToText.from_pretrained(\n",
    "    model_id, device_map=\"auto\", torch_dtype=torch.float16\n",
    ")\n",
    "\n",
    "# Languages to iterate over\n",
    "languages = [\"en\", \"bn\", \"de\", \"ko\", \"ru\", \"zh\"]\n",
    "\n",
    "# Directory to save temp images (needed for this model)\n",
    "os.makedirs(\"temp_images_vqa\", exist_ok=True)\n",
    "\n",
    "dataset = ds['xGQA_vqa']\n",
    "\n",
    "for sample in tqdm(dataset, desc=\"Iterating samples\"):\n",
    "    try:\n",
    "        image = sample[\"image\"]\n",
    "        sample_id = sample[\"sample_id\"]\n",
    "\n",
    "        #### This part will be replaced when attack implementation is ready #####\n",
    "\n",
    "        image_path = f\"temp_images_vqa/{sample_id}.jpg\"\n",
    "        if not os.path.exists(image_path):\n",
    "            image.save(image_path)\n",
    "\n",
    "        #########################################################################\n",
    "\n",
    "        print(f\"\\n========== Sample ID: {sample_id} ==========\")\n",
    "\n",
    "        for lang in languages:\n",
    "            question_col = f\"question_{lang}\"\n",
    "            answer_col = f\"answer_{lang}\"\n",
    "\n",
    "            # Safety check if answer exists\n",
    "            if question_col not in sample or answer_col not in sample:\n",
    "                print(f\"[{lang}] Missing data.\")\n",
    "                continue\n",
    "\n",
    "            question = sample[question_col]\n",
    "            gt_answer = sample[answer_col]\n",
    "\n",
    "            # Aya Vision input formatting\n",
    "            messages = [\n",
    "                {\"role\": \"user\",\n",
    "                 \"content\": [\n",
    "                     {\"type\": \"image\", \"url\": image_path},\n",
    "                     {\"type\": \"text\", \"text\": question},\n",
    "                 ]},\n",
    "            ]\n",
    "\n",
    "            inputs = processor.apply_chat_template(\n",
    "                messages,\n",
    "                padding=True,\n",
    "                add_generation_prompt=True,\n",
    "                tokenize=True,\n",
    "                return_dict=True,\n",
    "                return_tensors=\"pt\"\n",
    "            ).to(model.device)\n",
    "\n",
    "            gen_tokens = model.generate(\n",
    "                **inputs,\n",
    "                max_new_tokens=300,\n",
    "                do_sample=True,\n",
    "                temperature=0.3,\n",
    "            )\n",
    "\n",
    "            pred_answer = processor.tokenizer.decode(\n",
    "                gen_tokens[0][inputs.input_ids.shape[1]:],\n",
    "                skip_special_tokens=True\n",
    "            )\n",
    "\n",
    "            # Display result\n",
    "            print(f\"\\n[{lang.upper()}]\")\n",
    "            print(f\"Question: {question}\")\n",
    "            print(f\"GT: {gt_answer}\")\n",
    "            print(f\"Pred: {textwrap.fill(pred_answer, width=80)}\")\n",
    "\n",
    "        print(\"=\" * 100)\n",
    "\n",
    "    except Exception as e:\n",
    "        print(f\"Error processing sample {sample['sample_id']}: {e}\")\n",
    "\n",
    "    break\n"
   ]
  },
  {
   "cell_type": "code",
   "execution_count": null,
   "metadata": {},
   "outputs": [],
   "source": []
  }
 ],
 "metadata": {
  "language_info": {
   "name": "python"
  }
 },
 "nbformat": 4,
 "nbformat_minor": 0
}
