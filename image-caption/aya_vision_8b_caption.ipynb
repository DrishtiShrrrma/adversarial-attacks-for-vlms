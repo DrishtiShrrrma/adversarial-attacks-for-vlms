{
 "cells": [
  {
   "cell_type": "code",
   "execution_count": null,
   "metadata": {},
   "outputs": [],
   "source": [
    "import os\n",
    "import textwrap\n",
    "os.environ[\"CUDA_VISIBLE_DEVICES\"] = \"0\"\n"
   ]
  },
  {
   "cell_type": "code",
   "execution_count": null,
   "metadata": {},
   "outputs": [],
   "source": [
    "from huggingface_hub import notebook_login\n",
    "notebook_login()"
   ]
  },
  {
   "cell_type": "code",
   "execution_count": null,
   "metadata": {},
   "outputs": [],
   "source": [
    "from datasets import load_dataset\n",
    "ds = load_dataset(\n",
    "    \"hwaseem04/Aya-testing\",\n",
    "    data_files={\"xm3600_captioning\": \"data/xm3600_captioning-00000-of-00001.parquet\"}\n",
    ")"
   ]
  },
  {
   "cell_type": "code",
   "execution_count": null,
   "metadata": {},
   "outputs": [],
   "source": [
    "ds['xm3600_captioning'][0]"
   ]
  },
  {
   "cell_type": "code",
   "execution_count": null,
   "metadata": {},
   "outputs": [],
   "source": [
    "from datasets import load_dataset\n",
    "from tqdm import tqdm\n",
    "from PIL import Image\n",
    "import torch\n",
    "from transformers import AutoProcessor, AutoModelForImageTextToText\n",
    "\n",
    "# Languages to iterate over\n",
    "languages = [\"en\", \"bn\", \"de\", \"ko\", \"ru\", \"zh\"]\n",
    "\n",
    "# Directory to save temp images (needed for this model)\n",
    "os.makedirs(\"temp_images_caption\", exist_ok=True)\n",
    "\n",
    "# Load Aya Vision model and processor\n",
    "model_id = \"CohereLabs/aya-vision-8b\"\n",
    "model = AutoModelForImageTextToText.from_pretrained(model_id, device_map=\"auto\", torch_dtype=torch.float16).eval()\n",
    "processor = AutoProcessor.from_pretrained(model_id)\n",
    "\n",
    "dataset = ds['xm3600_captioning']\n",
    "\n",
    "for sample in tqdm(dataset, desc=\"Iterating samples\"):\n",
    "    try:\n",
    "        image = sample[\"image\"]\n",
    "        sample_id = sample[\"sample_id\"]\n",
    "\n",
    "        #### This part will be replaced when attack implementation is ready #####\n",
    "\n",
    "        image_path = f\"temp_images_caption/{sample_id}.jpg\"\n",
    "        if not os.path.exists(image_path):\n",
    "            image.save(image_path)\n",
    "\n",
    "        #########################################################################\n",
    "\n",
    "        print(f\"\\n========== Sample ID: {sample_id} ==========\")\n",
    "\n",
    "        for lang in languages:\n",
    "            prompt_col = f\"prompt_{lang}\"\n",
    "            caption_col = f\"captions_{lang}\"\n",
    "\n",
    "            # Safety check if caption exists\n",
    "            if prompt_col not in sample or caption_col not in sample:\n",
    "                print(f\"[{lang}] Missing data.\")\n",
    "                continue\n",
    "\n",
    "            prompt = sample[prompt_col]\n",
    "            gt_caption = sample[caption_col]\n",
    "\n",
    "            #### Run inference using Aya Vision model ####\n",
    "\n",
    "            messages = [\n",
    "                {\n",
    "                    \"role\": \"user\",\n",
    "                    \"content\": [\n",
    "                        {\"type\": \"image\", \"image\": image_path},\n",
    "                        {\"type\": \"text\", \"text\": prompt}\n",
    "                    ]\n",
    "                }\n",
    "            ]\n",
    "\n",
    "            inputs = processor.apply_chat_template(\n",
    "                messages,\n",
    "                padding=True,\n",
    "                add_generation_prompt=True,\n",
    "                tokenize=True,\n",
    "                return_dict=True,\n",
    "                return_tensors=\"pt\"\n",
    "            ).to(model.device)\n",
    "\n",
    "            with torch.inference_mode():\n",
    "                outputs = model.generate(\n",
    "                    **inputs,\n",
    "                    max_new_tokens=300,\n",
    "                    do_sample=True,\n",
    "                    temperature=0.3\n",
    "                )\n",
    "                pred_caption = processor.tokenizer.decode(outputs[0][inputs.input_ids.shape[1]:], skip_special_tokens=True)\n",
    "\n",
    "            ###########################################\n",
    "\n",
    "            # Display result\n",
    "            print(f\"\\n[{lang.upper()}]\")\n",
    "            print(f\"Prompt: {prompt}\")\n",
    "            print(f\"GT: {gt_caption}\")\n",
    "            print(f\"Pred: {textwrap.fill(pred_caption, width=80)}\")\n",
    "\n",
    "        print(\"=\" * 100)\n",
    "\n",
    "    except Exception as e:\n",
    "        print(f\"Error processing sample {sample['sample_id']}: {e}\")\n",
    "\n",
    "    break  # remove this to run the full dataset"
   ]
  },
  {
   "cell_type": "code",
   "execution_count": null,
   "metadata": {},
   "outputs": [],
   "source": []
  }
 ],
 "metadata": {
  "language_info": {
   "name": "python"
  }
 },
 "nbformat": 4,
 "nbformat_minor": 0
}
