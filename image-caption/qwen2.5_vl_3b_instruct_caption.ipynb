{
 "cells": [
  {
   "cell_type": "code",
   "execution_count": 1,
   "id": "fe0ed6ba-1d59-47e2-8fa7-a52dc55a204c",
   "metadata": {},
   "outputs": [],
   "source": [
    "import os\n",
    "import textwrap\n",
    "os.environ[\"CUDA_VISIBLE_DEVICES\"] = \"0\"  "
   ]
  },
  {
   "cell_type": "code",
   "execution_count": 2,
   "id": "5a589190-c2ff-4721-b324-031d040313ed",
   "metadata": {},
   "outputs": [],
   "source": [
    "!pip install -qqq datasets Pillow==9.4.0 transformers qwen_vl_utils accelerate"
   ]
  },
  {
   "cell_type": "code",
   "execution_count": 3,
   "id": "5b3eebf4-7c77-460c-b1fe-b97d0bd97b88",
   "metadata": {},
   "outputs": [],
   "source": [
    "from datasets import load_dataset\n",
    "ds = load_dataset(\n",
    "    \"hwaseem04/Aya-testing\",\n",
    "    data_files={\"xm3600_captioning\": \"data/xm3600_captioning-00000-of-00001.parquet\"}\n",
    ")"
   ]
  },
  {
   "cell_type": "code",
   "execution_count": 4,
   "id": "a6fd180f-73b1-4dd6-bb5d-2a8edaef8e01",
   "metadata": {},
   "outputs": [
    {
     "data": {
      "text/plain": [
       "{'sample_id': 1,\n",
       " 'image_id': '000411001ff7dd4f',\n",
       " 'image': <PIL.JpegImagePlugin.JpegImageFile image mode=RGB size=640x480>,\n",
       " 'prompt_en': 'Caption the image, short answer.',\n",
       " 'captions_en': ['a rooster and hens surrounded by green leaves .',\n",
       "  'a rooster with two hens on a rocky slope with some bushes .'],\n",
       " 'prompt_ar': 'علّق على الصورة، بإجابة قصيرة.',\n",
       " 'captions_ar': ['ديك و فرخة علي الأرض', 'ديك وفرخة بحديقة'],\n",
       " 'prompt_bn': 'ছবির ক্যাপশন দিন, সংক্ষিপ্ত উত্তর।',\n",
       " 'captions_bn': ['জঙ্গলের মদহে দুইটি বাদামী ও কালো রঙের মুরগি আছে'],\n",
       " 'prompt_cs': 'Popište obrázek krátkou odpovědí.',\n",
       " 'captions_cs': ['kohout a slepice v trávě',\n",
       "  'hnědá slepice a kohout jdoucí po trávě v lese'],\n",
       " 'prompt_da': 'Giv billedet en billedtekst, kort svar.',\n",
       " 'captions_da': ['en brun høne og en flerfarvet hane i skovbunden',\n",
       "  'hane og høne i have'],\n",
       " 'prompt_de': 'Bildunterschrift für das Bild, kurze Antwort.',\n",
       " 'captions_de': ['eine henne und ein hanh im steinigem garten im gras .',\n",
       "  'leicht verschwommene aufnahme von huhn und hahn im freien tagsüber .'],\n",
       " 'prompt_el': 'Υπότιτλος για την εικόνα, σύντομη απάντηση.',\n",
       " 'captions_el': ['Κόκκορας και κότα',\n",
       "  'Κότες και κόκορας ελευθέρας βοσκής στη φύση'],\n",
       " 'prompt_es': 'Ponle un título a la imagen, respuesta corta.',\n",
       " 'captions_es': ['un gallo y una gallina entre rocas y hierbas',\n",
       "  'gallo y gallina caminando por el pasto .'],\n",
       " 'prompt_fa': 'برای تصویر کپشن بنویسید، پاسخ کوتاه.',\n",
       " 'captions_fa': ['خروس و مرغ در باغ در روزی روشن',\n",
       "  'مرغ و خروس در منظره\\u200cای روستایی'],\n",
       " 'prompt_fi': 'Anna kuvalle kuvateksti, lyhyt vastaus.',\n",
       " 'captions_fi': ['kaksi kanaa ja kukko kävelemässä metsässä',\n",
       "  'heilahtanut kuva kanasta ja kukosta kävelemässä metsässä'],\n",
       " 'prompt_fil': 'Bigyan ng caption ang larawan, maikling sagot.',\n",
       " 'captions_fil': ['dalawang tandang na manok at isa pang manok na hindi buo ang larawan',\n",
       "  'tandang at inahin na mga manok ang nasa lupa at madamong lugar'],\n",
       " 'prompt_fr': \"Légendez l'image, réponse courte.\",\n",
       " 'captions_fr': ['une poule et un coq dans les bois',\n",
       "  \"image flou d' une poule et de coq dans la nature en journée\"],\n",
       " 'prompt_hi': 'छवि को कैप्शन दें, संक्षिप्त उत्तर।',\n",
       " 'captions_hi': ['ज़मीन पर छोटे पौधों के बीच दो मुर्गियों का दृश्य है',\n",
       "  'घांस में भागते दो मुर्गी का नज़ारा',\n",
       "  'हरे मैदान में खड़े मुर्गा और मुर्गी का दृश्य .'],\n",
       " 'prompt_hr': 'Dodajte naslov slici, kratak odgovor.',\n",
       " 'captions_hr': ['kokoš smeđeg perja i pijetao crnog i smeđeg perja u prirodi',\n",
       "  'pijetlovi u šumi'],\n",
       " 'prompt_hu': 'Adj címet a képnek, rövid válasz.',\n",
       " 'captions_hu': ['kakas és tyúk .', 'csirke és kakas a szabadban'],\n",
       " 'prompt_id': 'Beri keterangan pada gambar, jawaban singkat.',\n",
       " 'captions_id': ['2 ekor ayam yang sedang berada di area taman terbuka di antara tanaman liar',\n",
       "  'seekor ayam betina dan ayam jago mencari makan tanah berbatu yang dipenuhi daun kering dan rumput'],\n",
       " 'prompt_it': \"Dai un titolo all'immagine, risposta breve.\",\n",
       " 'captions_it': ['galli allo stato brado , ambiente naturale , foglie secche , erbacce , terreno sconnesso',\n",
       "  'gallina e gallo in pollaio con erba e foglie secche'],\n",
       " 'prompt_he': 'כתוב כיתוב לתמונה, תשובה קצרה.',\n",
       " 'captions_he': ['תרנגולים מתהלכים על האדמה עם צמחייה ירוקה מסביב .',\n",
       "  'תרנגול ותרנגול הודו'],\n",
       " 'prompt_ja': '画像にキャプションを付けてください。短い答えで。',\n",
       " 'captions_ja': ['草むら を 歩い て いる 二 羽 の おんどり', '野生 の 2 羽 の 鶏'],\n",
       " 'prompt_ko': '이미지에 캡션을 달아주세요. 짧은 답변으로.',\n",
       " 'captions_ko': ['낙엽 과 잡초 가 많은 산길 의 돌 위에 서 있는 닭 두 마리',\n",
       "  '시골 마을 에 풀어 놓고 키우는 닭 암수'],\n",
       " 'prompt_mi': 'Whakaputanga kōrero poto mō te whakaahua.',\n",
       " 'captions_mi': ['e rua ngā tame heihei .'],\n",
       " 'prompt_nl': 'Voorzie de afbeelding van een onderschrift, kort antwoord.',\n",
       " 'captions_nl': ['twee hanen', 'haan met kippen'],\n",
       " 'prompt_no': 'Gi bildet en bildetekst, kort svar.',\n",
       " 'captions_no': ['hane og høner som står på gressbakken',\n",
       "  'en høne og en hane i skogen'],\n",
       " 'prompt_pl': 'Dodaj podpis do obrazu, krótka odpowiedź.',\n",
       " 'captions_pl': ['kogut i kura chodzące wolno',\n",
       "  'dwa koguty chodzące po ziemi .'],\n",
       " 'prompt_pt': 'Coloque uma legenda na imagem, resposta curta.',\n",
       " 'captions_pt': ['galo e galinha andando no mato',\n",
       "  'um galo e duas galinhas em um terreno baldio .'],\n",
       " 'prompt_quz': 'Rikuy ima ima, sipas kay ñawpaq.',\n",
       " 'captions_quz': ['ishqay ch´umpi wallpakuna purnaq´ashan',\n",
       "  'huk wallpa huk utulu chakrapi purichkanku'],\n",
       " 'prompt_ro': 'Adaugă o legendă imaginii, răspuns scurt.',\n",
       " 'captions_ro': ['găină și cocoș în natura cu verdeață și pietre',\n",
       "  'gaina si cocos printre iarba si pietre'],\n",
       " 'prompt_ru': 'Подпишите изображение, короткий ответ.',\n",
       " 'captions_ru': ['Яркий петух и его коричневые куры в парке',\n",
       "  'Курица и петух , бегущие по земле в лесу по траве'],\n",
       " 'prompt_sv': 'Skriv en bildtext till bilden, kort svar.',\n",
       " 'captions_sv': ['tupp och höna', 'höna och tupp bland löv och buskar .'],\n",
       " 'prompt_sw': 'Andika maelezo mafupi ya picha, jibu fupi.',\n",
       " 'captions_sw': ['picha ya jogoo wa jadi na kuku ya kienyeji',\n",
       "  'jogoo na kuku zinatembea eneo iliyo na mawe na mimea'],\n",
       " 'prompt_te': 'చిత్రానికి క్యాప్షన్ ఇవ్వండి, సంక్షిప్తంగా సమాధానమివ్వండి.',\n",
       " 'captions_te': ['మొక్కల మధ్య తిరుగుతున్న కోడి పెట్ట మరియు పుంజు .',\n",
       "  'నడుస్తున్న కోడి మరియు కోడి పుంజు గల చిత్రం'],\n",
       " 'prompt_th': 'เขียนคำบรรยายภาพ ตอบสั้น ๆ',\n",
       " 'captions_th': ['ไก่ สาม ตัว กำลัง เดิน อยู่ บน เนิน ที่ มี หิน และ หญ้า ใน วัน ที่ มี แสงแดด',\n",
       "  'ไก่ ตัวเมีย และ ตัวผู้ เดิน อยู่ บน พื้น ดิน ที่ มี หญ้า ขึ้น บาง จุด'],\n",
       " 'prompt_tr': 'Görsele başlık ekleyin, kısa cevap.',\n",
       " 'captions_tr': ['bahçedeki tavuk ve horoz', 'ormanda bulunan horoz ve tavuk'],\n",
       " 'prompt_uk': 'Дайте підпис до зображення, коротка відповідь.',\n",
       " 'captions_uk': ['На передньому плані коричнева ряба курка , далі - коричнево-чорний півень , фото не дуже якісне',\n",
       "  'Коричнева курка і чорно-коричневий півень серед каменів'],\n",
       " 'prompt_vi': 'Chú thích hình ảnh, câu trả lời ngắn.',\n",
       " 'captions_vi': ['một con gà trống và một con gà mái đang đi kiếm ăn trong vườn',\n",
       "  'hai con gà trống đi trên nền đất có đá và cỏ xanh'],\n",
       " 'prompt_zh': '为图片添加标题，简短回答。',\n",
       " 'captions_zh': ['在 山里 中 站着 两只鸡 ， 一只 黄色 另一 只 黑 黄色 ， 它们 俩 站着 看 向 同 一个 方向',\n",
       "  '在 野外 绿植 地上 的 公鸡 和 母鸡 近景']}"
      ]
     },
     "execution_count": 4,
     "metadata": {},
     "output_type": "execute_result"
    }
   ],
   "source": [
    "ds['xm3600_captioning'][0]"
   ]
  },
  {
   "cell_type": "code",
   "execution_count": 5,
   "id": "016b2d50-44e3-42d8-ba9a-05ba2ad2fe6d",
   "metadata": {},
   "outputs": [
    {
     "data": {
      "application/vnd.jupyter.widget-view+json": {
       "model_id": "82be9cfa120c464d89c00beb35cd527a",
       "version_major": 2,
       "version_minor": 0
      },
      "text/plain": [
       "model.safetensors.index.json:   0%|          | 0.00/65.4k [00:00<?, ?B/s]"
      ]
     },
     "metadata": {},
     "output_type": "display_data"
    },
    {
     "data": {
      "application/vnd.jupyter.widget-view+json": {
       "model_id": "1f5a077dee3a4593b5712aced523ea9a",
       "version_major": 2,
       "version_minor": 0
      },
      "text/plain": [
       "Fetching 2 files:   0%|          | 0/2 [00:00<?, ?it/s]"
      ]
     },
     "metadata": {},
     "output_type": "display_data"
    },
    {
     "data": {
      "application/vnd.jupyter.widget-view+json": {
       "model_id": "bf8629d3639d469c9358c87ec34129f9",
       "version_major": 2,
       "version_minor": 0
      },
      "text/plain": [
       "model-00001-of-00002.safetensors:   0%|          | 0.00/3.98G [00:00<?, ?B/s]"
      ]
     },
     "metadata": {},
     "output_type": "display_data"
    },
    {
     "data": {
      "application/vnd.jupyter.widget-view+json": {
       "model_id": "f04d78500244450bb7978748c8684f55",
       "version_major": 2,
       "version_minor": 0
      },
      "text/plain": [
       "model-00002-of-00002.safetensors:   0%|          | 0.00/3.53G [00:00<?, ?B/s]"
      ]
     },
     "metadata": {},
     "output_type": "display_data"
    },
    {
     "data": {
      "application/vnd.jupyter.widget-view+json": {
       "model_id": "0b9307900c29489888e3e333d70e2e66",
       "version_major": 2,
       "version_minor": 0
      },
      "text/plain": [
       "Loading checkpoint shards:   0%|          | 0/2 [00:00<?, ?it/s]"
      ]
     },
     "metadata": {},
     "output_type": "display_data"
    },
    {
     "data": {
      "application/vnd.jupyter.widget-view+json": {
       "model_id": "15c3fc7af3fa4cb89bf074d7ae6c9844",
       "version_major": 2,
       "version_minor": 0
      },
      "text/plain": [
       "generation_config.json:   0%|          | 0.00/216 [00:00<?, ?B/s]"
      ]
     },
     "metadata": {},
     "output_type": "display_data"
    },
    {
     "data": {
      "application/vnd.jupyter.widget-view+json": {
       "model_id": "8e58452f31ee46039fcdefc82b90e9b2",
       "version_major": 2,
       "version_minor": 0
      },
      "text/plain": [
       "preprocessor_config.json:   0%|          | 0.00/350 [00:00<?, ?B/s]"
      ]
     },
     "metadata": {},
     "output_type": "display_data"
    },
    {
     "name": "stderr",
     "output_type": "stream",
     "text": [
      "Using a slow image processor as `use_fast` is unset and a slow processor was saved with this model. `use_fast=True` will be the default behavior in v4.52, even if the model was saved with a slow processor. This will result in minor differences in outputs. You'll still be able to use a slow processor with `use_fast=False`.\n"
     ]
    },
    {
     "data": {
      "application/vnd.jupyter.widget-view+json": {
       "model_id": "c4ed8b65a106405b877d4c3bfaf5f745",
       "version_major": 2,
       "version_minor": 0
      },
      "text/plain": [
       "tokenizer_config.json:   0%|          | 0.00/5.70k [00:00<?, ?B/s]"
      ]
     },
     "metadata": {},
     "output_type": "display_data"
    },
    {
     "data": {
      "application/vnd.jupyter.widget-view+json": {
       "model_id": "3c6cefeca1714d08be7b9eaf5a23a90f",
       "version_major": 2,
       "version_minor": 0
      },
      "text/plain": [
       "vocab.json:   0%|          | 0.00/2.78M [00:00<?, ?B/s]"
      ]
     },
     "metadata": {},
     "output_type": "display_data"
    },
    {
     "data": {
      "application/vnd.jupyter.widget-view+json": {
       "model_id": "54d1254fdfa3490cbe6aea96085d45af",
       "version_major": 2,
       "version_minor": 0
      },
      "text/plain": [
       "merges.txt:   0%|          | 0.00/1.67M [00:00<?, ?B/s]"
      ]
     },
     "metadata": {},
     "output_type": "display_data"
    },
    {
     "data": {
      "application/vnd.jupyter.widget-view+json": {
       "model_id": "239d874fe46043b3995e5a3179c1c891",
       "version_major": 2,
       "version_minor": 0
      },
      "text/plain": [
       "tokenizer.json:   0%|          | 0.00/7.03M [00:00<?, ?B/s]"
      ]
     },
     "metadata": {},
     "output_type": "display_data"
    },
    {
     "data": {
      "application/vnd.jupyter.widget-view+json": {
       "model_id": "814cff3856d94ca9a4acf465c2e86c8b",
       "version_major": 2,
       "version_minor": 0
      },
      "text/plain": [
       "chat_template.json:   0%|          | 0.00/1.05k [00:00<?, ?B/s]"
      ]
     },
     "metadata": {},
     "output_type": "display_data"
    },
    {
     "name": "stderr",
     "output_type": "stream",
     "text": [
      "Iterating samples:   0%|          | 0/3600 [00:00<?, ?it/s]"
     ]
    },
    {
     "name": "stdout",
     "output_type": "stream",
     "text": [
      "\n",
      "========== Sample ID: 1 ==========\n",
      "\n",
      "[EN]\n",
      "Prompt: Caption the image, short answer.\n",
      "GT: ['a rooster and hens surrounded by green leaves .', 'a rooster with two hens on a rocky slope with some bushes .']\n",
      "Pred: \"Three chickens in a garden with greenery and fallen leaves.\"\n",
      "\n",
      "[BN]\n",
      "Prompt: ছবির ক্যাপশন দিন, সংক্ষিপ্ত উত্তর।\n",
      "GT: ['জঙ্গলের মদহে দুইটি বাদামী ও কালো রঙের মুরগি আছে']\n",
      "Pred: \"Three chickens in a garden.\"\n",
      "\n",
      "[DE]\n",
      "Prompt: Bildunterschrift für das Bild, kurze Antwort.\n",
      "GT: ['eine henne und ein hanh im steinigem garten im gras .', 'leicht verschwommene aufnahme von huhn und hahn im freien tagsüber .']\n",
      "Pred: \"Ein Hahn und eine Henne in einem natürlichen Umfeld.\"\n",
      "\n",
      "[KO]\n",
      "Prompt: 이미지에 캡션을 달아주세요. 짧은 답변으로.\n",
      "GT: ['낙엽 과 잡초 가 많은 산길 의 돌 위에 서 있는 닭 두 마리', '시골 마을 에 풀어 놓고 키우는 닭 암수']\n",
      "Pred: Three chickens are walking on the ground in a garden with green plants and\n",
      "fallen leaves.\n",
      "\n",
      "[RU]\n",
      "Prompt: Подпишите изображение, короткий ответ.\n",
      "GT: ['Яркий петух и его коричневые куры в парке', 'Курица и петух , бегущие по земле в лесу по траве']\n",
      "Pred: Коричневые куры на природном фоне.\n"
     ]
    },
    {
     "name": "stderr",
     "output_type": "stream",
     "text": [
      "Iterating samples:   0%|          | 0/3600 [00:05<?, ?it/s]"
     ]
    },
    {
     "name": "stdout",
     "output_type": "stream",
     "text": [
      "\n",
      "[ZH]\n",
      "Prompt: 为图片添加标题，简短回答。\n",
      "GT: ['在 山里 中 站着 两只鸡 ， 一只 黄色 另一 只 黑 黄色 ， 它们 俩 站着 看 向 同 一个 方向', '在 野外 绿植 地上 的 公鸡 和 母鸡 近景']\n",
      "Pred: 鸡在草地上走\n",
      "====================================================================================================\n"
     ]
    },
    {
     "name": "stderr",
     "output_type": "stream",
     "text": [
      "\n"
     ]
    }
   ],
   "source": [
    "# Qwen2.5-VL model setup\n",
    "from transformers import Qwen2_5_VLForConditionalGeneration, AutoProcessor\n",
    "from qwen_vl_utils import process_vision_info\n",
    "\n",
    "model = Qwen2_5_VLForConditionalGeneration.from_pretrained(\n",
    "    \"Qwen/Qwen2.5-VL-3B-Instruct\", torch_dtype=\"auto\", device_map=\"auto\"\n",
    ")\n",
    "processor = AutoProcessor.from_pretrained(\"Qwen/Qwen2.5-VL-3B-Instruct\")\n",
    "\n",
    "from tqdm import tqdm\n",
    "from PIL import Image\n",
    "import os\n",
    "\n",
    "# Languages to iterate over\n",
    "languages = [\"en\", \"bn\", \"de\", \"ko\", \"ru\", \"zh\"]\n",
    "\n",
    "# Directory to save temp images (needed for this model)\n",
    "os.makedirs(\"temp_images_caption\", exist_ok=True)\n",
    "\n",
    "dataset = ds['xm3600_captioning']\n",
    "\n",
    "for sample in tqdm(dataset, desc=\"Iterating samples\"):\n",
    "    try:\n",
    "        image = sample[\"image\"]\n",
    "        sample_id = sample[\"sample_id\"]\n",
    "\n",
    "        #### This part will be replaced when attack implementation is ready #####\n",
    "\n",
    "        image_path = f\"temp_images_caption/{sample_id}.jpg\"\n",
    "        if not os.path.exists(image_path):\n",
    "            image.save(image_path)\n",
    "\n",
    "        #########################################################################\n",
    "\n",
    "        print(f\"\\n========== Sample ID: {sample_id} ==========\")\n",
    "\n",
    "        for lang in languages:\n",
    "            prompt_col = f\"prompt_{lang}\"\n",
    "            caption_col = f\"captions_{lang}\"\n",
    "\n",
    "            # Safety check if caption exists\n",
    "            if prompt_col not in sample or caption_col not in sample:\n",
    "                print(f\"[{lang}] Missing data.\")\n",
    "                continue\n",
    "\n",
    "            prompt = sample[prompt_col]\n",
    "            gt_caption = sample[caption_col]\n",
    "\n",
    "            messages = [\n",
    "                {\n",
    "                    \"role\": \"user\",\n",
    "                    \"content\": [\n",
    "                        {\"type\": \"image\", \"image\": image_path},\n",
    "                        {\"type\": \"text\", \"text\": prompt}\n",
    "                    ]\n",
    "                }\n",
    "            ]\n",
    "\n",
    "            text = processor.apply_chat_template(messages, tokenize=False, add_generation_prompt=True)\n",
    "            image_inputs, video_inputs = process_vision_info(messages)\n",
    "            inputs = processor(\n",
    "                text=[text],\n",
    "                images=image_inputs,\n",
    "                videos=video_inputs,\n",
    "                padding=True,\n",
    "                return_tensors=\"pt\",\n",
    "            ).to(\"cuda\")\n",
    "\n",
    "            generated_ids = model.generate(**inputs, max_new_tokens=128)\n",
    "            generated_ids_trimmed = [\n",
    "                out_ids[len(in_ids):] for in_ids, out_ids in zip(inputs.input_ids, generated_ids)\n",
    "            ]\n",
    "            output_text = processor.batch_decode(\n",
    "                generated_ids_trimmed,\n",
    "                skip_special_tokens=True,\n",
    "                clean_up_tokenization_spaces=False\n",
    "            )\n",
    "            pred_caption = output_text[0]\n",
    "\n",
    "            # Display result\n",
    "            print(f\"\\n[{lang.upper()}]\")\n",
    "            print(f\"Prompt: {prompt}\")\n",
    "            print(f\"GT: {gt_caption}\")\n",
    "            print(f\"Pred: {textwrap.fill(pred_caption, width=80)}\")\n",
    "\n",
    "        print(\"=\" * 100)\n",
    "\n",
    "    except Exception as e:\n",
    "        print(f\"Error processing sample {sample['sample_id']}: {e}\")\n",
    "\n",
    "    break"
   ]
  },
  {
   "cell_type": "code",
   "execution_count": null,
   "id": "fc55c20e-b18a-48ae-b840-d83891711e57",
   "metadata": {},
   "outputs": [],
   "source": []
  },
  {
   "cell_type": "code",
   "execution_count": null,
   "id": "8268ce27-001e-443f-86e9-97c5c690f9a1",
   "metadata": {},
   "outputs": [],
   "source": []
  },
  {
   "cell_type": "code",
   "execution_count": null,
   "id": "33395e72-b5a0-4ed2-947a-9623f302f8aa",
   "metadata": {},
   "outputs": [],
   "source": []
  }
 ],
 "metadata": {
  "kernelspec": {
   "display_name": "Python 3 (ipykernel)",
   "language": "python",
   "name": "python3"
  },
  "language_info": {
   "codemirror_mode": {
    "name": "ipython",
    "version": 3
   },
   "file_extension": ".py",
   "mimetype": "text/x-python",
   "name": "python",
   "nbconvert_exporter": "python",
   "pygments_lexer": "ipython3",
   "version": "3.10.12"
  }
 },
 "nbformat": 4,
 "nbformat_minor": 5
}
