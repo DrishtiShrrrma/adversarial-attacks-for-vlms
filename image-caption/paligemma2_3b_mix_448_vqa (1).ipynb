{
 "cells": [
  {
   "cell_type": "code",
   "execution_count": null,
   "metadata": {},
   "outputs": [],
   "source": [
    "import os\n",
    "import textwrap\n",
    "os.environ[\"CUDA_VISIBLE_DEVICES\"] = \"0\""
   ]
  },
  {
   "cell_type": "code",
   "execution_count": null,
   "metadata": {},
   "outputs": [],
   "source": [
    "from huggingface_hub import notebook_login\n",
    "notebook_login()"
   ]
  },
  {
   "cell_type": "code",
   "execution_count": null,
   "metadata": {},
   "outputs": [],
   "source": [
    "from datasets import load_dataset\n",
    "ds = load_dataset(\n",
    "    \"hwaseem04/Aya-testing\",\n",
    "    data_files={\"xGQA_vqa\": \"data/xGQA_vqa-00000-of-00001.parquet\"}\n",
    ")"
   ]
  },
  {
   "cell_type": "code",
   "execution_count": null,
   "metadata": {},
   "outputs": [],
   "source": [
    "ds['xGQA_vqa'][0]\n"
   ]
  },
  {
   "cell_type": "code",
   "execution_count": null,
   "metadata": {},
   "outputs": [],
   "source": [
    "from tqdm import tqdm\n",
    "from PIL import Image\n",
    "import torch\n",
    "from transformers import PaliGemmaProcessor, PaliGemmaForConditionalGeneration\n",
    "from transformers.image_utils import load_image\n",
    "\n",
    "# Load the PaliGemma 2 model and processor\n",
    "model_id = \"google/paligemma2-3b-mix-448\"\n",
    "model = PaliGemmaForConditionalGeneration.from_pretrained(\n",
    "    model_id, torch_dtype=torch.bfloat16, device_map=\"auto\"\n",
    ").eval()\n",
    "processor = PaliGemmaProcessor.from_pretrained(model_id)\n",
    "\n",
    "# Languages to iterate over\n",
    "languages = [\"en\", \"bn\", \"de\", \"ko\", \"ru\", \"zh\"]\n",
    "\n",
    "# Directory to save temp images (needed for this model)\n",
    "os.makedirs(\"temp_images_vqa\", exist_ok=True)\n",
    "\n",
    "dataset = ds['xGQA_vqa']\n",
    "\n",
    "for sample in tqdm(dataset, desc=\"Iterating samples\"):\n",
    "    try:\n",
    "        image = sample[\"image\"]\n",
    "        sample_id = sample[\"sample_id\"]\n",
    "\n",
    "        # Save image locally if it isn't already saved\n",
    "        image_path = f\"temp_images_vqa/{sample_id}.jpg\"\n",
    "        if not os.path.exists(image_path):\n",
    "            image.save(image_path)\n",
    "\n",
    "        print(f\"\\n========== Sample ID: {sample_id} ==========\")\n",
    "\n",
    "        for lang in languages:\n",
    "            question_col = f\"question_{lang}\"\n",
    "            answer_col = f\"answer_{lang}\"\n",
    "\n",
    "            # Check if the sample contains required fields\n",
    "            if question_col not in sample or answer_col not in sample:\n",
    "                print(f\"[{lang}] Missing data.\")\n",
    "                continue\n",
    "\n",
    "            question = sample[question_col]\n",
    "            gt_answer = sample[answer_col]\n",
    "\n",
    "            # Construct the prompt as per PaliGemma's VQA format\n",
    "            formatted_prompt = f\"answer {lang} {question}\"\n",
    "\n",
    "            # Load image into format expected by the processor\n",
    "            loaded_image = load_image(image_path)\n",
    "\n",
    "            # Prepare model inputs\n",
    "            model_inputs = processor(\n",
    "                text=formatted_prompt,\n",
    "                images=loaded_image,\n",
    "                return_tensors=\"pt\"\n",
    "            ).to(torch.bfloat16).to(model.device)\n",
    "\n",
    "            input_len = model_inputs[\"input_ids\"].shape[-1]\n",
    "\n",
    "            # Perform inference\n",
    "            with torch.inference_mode():\n",
    "                generation = model.generate(\n",
    "                    **model_inputs,\n",
    "                    max_new_tokens=100,\n",
    "                    do_sample=False\n",
    "                )\n",
    "                generation = generation[0][input_len:]\n",
    "\n",
    "            # Decode generated tokens into string\n",
    "            pred_answer = processor.decode(generation, skip_special_tokens=True)\n",
    "\n",
    "            # Display results\n",
    "            print(f\"\\n[{lang.upper()}]\")\n",
    "            print(f\"Question: {question}\")\n",
    "            print(f\"GT: {gt_answer}\")\n",
    "            print(f\"Pred: {textwrap.fill(pred_answer, width=80)}\")\n",
    "\n",
    "        print(\"=\" * 100)\n",
    "\n",
    "    except Exception as e:\n",
    "        print(f\"Error processing sample {sample['sample_id']}: {e}\")\n",
    "\n",
    "    break"
   ]
  },
  {
   "cell_type": "code",
   "execution_count": null,
   "metadata": {},
   "outputs": [],
   "source": []
  }
 ],
 "metadata": {
  "language_info": {
   "name": "python"
  }
 },
 "nbformat": 4,
 "nbformat_minor": 0
}
